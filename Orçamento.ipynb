{
 "cells": [
  {
   "cell_type": "markdown",
   "id": "bd4758b9",
   "metadata": {},
   "source": [
    "### Estrada de Dados do Usuário (input)"
   ]
  },
  {
   "cell_type": "code",
   "execution_count": 2,
   "id": "f0065c98",
   "metadata": {},
   "outputs": [],
   "source": [
    "#input(\"Escreva seus dados: \")\n",
    "#input(\"Sua idade: \")"
   ]
  },
  {
   "cell_type": "markdown",
   "id": "3af03ebd",
   "metadata": {},
   "source": [
    "### Armazenas dados em uma variável "
   ]
  },
  {
   "cell_type": "code",
   "execution_count": 1,
   "id": "f55b8321",
   "metadata": {},
   "outputs": [
    {
     "name": "stdout",
     "output_type": "stream",
     "text": [
      "Digite a descrição do projeto: Orçamento\n",
      "Digite a quantidade de horas previstas: 300\n",
      "Digite o valor das horas: 30\n",
      "Digite o prazo de entrega (dias): 120\n"
     ]
    }
   ],
   "source": [
    "descricao_projeto = input(\"Digite a descrição do projeto: \")\n",
    "horas_previstas = input(\"Digite a quantidade de horas previstas: \")\n",
    "valor_horas = input(\"Digite o valor das horas: \")\n",
    "prazo = input(\"Digite o prazo de entrega (dias): \")"
   ]
  },
  {
   "cell_type": "markdown",
   "id": "dc312b85",
   "metadata": {},
   "source": [
    "#### Realizando calculos com o Python\n",
    "\n",
    "valor total = quantidade de horas x o valor da hora trabalhada"
   ]
  },
  {
   "cell_type": "code",
   "execution_count": 2,
   "id": "189dc553",
   "metadata": {},
   "outputs": [
    {
     "name": "stdout",
     "output_type": "stream",
     "text": [
      "3600\n"
     ]
    }
   ],
   "source": [
    "valor_total = print(int(valor_horas) * int(prazo))"
   ]
  },
  {
   "cell_type": "markdown",
   "id": "57f72eec",
   "metadata": {},
   "source": [
    "#### Tipos de Dados\n",
    "- text (str)\n",
    "- número (int)"
   ]
  },
  {
   "cell_type": "markdown",
   "id": "33762be2",
   "metadata": {},
   "source": [
    "### Gerando o Orçamento"
   ]
  },
  {
   "cell_type": "code",
   "execution_count": 3,
   "id": "7bce5c2b",
   "metadata": {},
   "outputs": [
    {
     "name": "stdout",
     "output_type": "stream",
     "text": [
      "Requirement already satisfied: fpdf in c:\\users\\samsung\\anaconda3\\lib\\site-packages (1.7.2)\n"
     ]
    }
   ],
   "source": [
    "!pip install fpdf"
   ]
  },
  {
   "cell_type": "code",
   "execution_count": 4,
   "id": "6697d012",
   "metadata": {},
   "outputs": [],
   "source": [
    "from fpdf import FPDF"
   ]
  },
  {
   "cell_type": "code",
   "execution_count": 7,
   "id": "f1715286",
   "metadata": {},
   "outputs": [
    {
     "name": "stdout",
     "output_type": "stream",
     "text": [
      "Orçamento gerado com sucesso!\n"
     ]
    }
   ],
   "source": [
    "# criando um pdf\n",
    "pdf = FPDF()\n",
    "\n",
    "pdf.add_page()\n",
    "pdf.set_font(\"Arial\")\n",
    "pdf.image(\"template.png\", x=0,y=0)\n",
    "        \n",
    "\n",
    "pdf.text(115,145, descricao_projeto)\n",
    "pdf.text(115,160, horas_previstas)\n",
    "pdf.text(115,175, valor_horas)\n",
    "pdf.text(115,190, prazo)\n",
    "pdf.text(115,205, str(valor_total))\n",
    "\n",
    "pdf.output(\"Orçamento.pdf\")\n",
    "\n",
    "print(\"Orçamento gerado com sucesso!\")"
   ]
  },
  {
   "cell_type": "markdown",
   "id": "76144e7c",
   "metadata": {},
   "source": [
    "### TUDO É FÁCIL COM UM BOM DIRECIONAMENTO"
   ]
  },
  {
   "cell_type": "code",
   "execution_count": null,
   "id": "41ca2651",
   "metadata": {},
   "outputs": [],
   "source": []
  },
  {
   "cell_type": "code",
   "execution_count": null,
   "id": "9aca24b9",
   "metadata": {},
   "outputs": [],
   "source": []
  },
  {
   "cell_type": "code",
   "execution_count": null,
   "id": "33745d4f",
   "metadata": {},
   "outputs": [],
   "source": []
  },
  {
   "cell_type": "code",
   "execution_count": null,
   "id": "0754a3f6",
   "metadata": {},
   "outputs": [],
   "source": []
  },
  {
   "cell_type": "code",
   "execution_count": null,
   "id": "485dd1e5",
   "metadata": {},
   "outputs": [],
   "source": []
  },
  {
   "cell_type": "code",
   "execution_count": null,
   "id": "5c8d1778",
   "metadata": {},
   "outputs": [],
   "source": []
  },
  {
   "cell_type": "code",
   "execution_count": null,
   "id": "195076de",
   "metadata": {},
   "outputs": [],
   "source": []
  }
 ],
 "metadata": {
  "kernelspec": {
   "display_name": "Python 3 (ipykernel)",
   "language": "python",
   "name": "python3"
  },
  "language_info": {
   "codemirror_mode": {
    "name": "ipython",
    "version": 3
   },
   "file_extension": ".py",
   "mimetype": "text/x-python",
   "name": "python",
   "nbconvert_exporter": "python",
   "pygments_lexer": "ipython3",
   "version": "3.11.5"
  }
 },
 "nbformat": 4,
 "nbformat_minor": 5
}
